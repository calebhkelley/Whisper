{
 "cells": [
  {
   "cell_type": "code",
   "execution_count": 1,
   "id": "b8406bfd",
   "metadata": {},
   "outputs": [],
   "source": [
    "import os\n",
    "import openai\n",
    "from openai import Audio\n",
    "\n",
    "# try new API key \n",
    "OPENAI_API_KEY= 'APIKEY",
    "openai.api_key = \"APIKEY""
   ]
  },
  {
   "cell_type": "code",
   "execution_count": 2,
   "id": "c2c6ce9e",
   "metadata": {},
   "outputs": [],
   "source": [
    "input_files = ['/Users/calebkelley/Downloads/test_audio_file.wav', \n",
    "               '/Users/calebkelley/Downloads/test_spanish_file.wav']"
   ]
  },
  {
   "cell_type": "code",
   "execution_count": 3,
   "id": "e07fbf17",
   "metadata": {},
   "outputs": [
    {
     "name": "stdout",
     "output_type": "stream",
     "text": [
      "Hello, good afternoon. My name is Caleb Kelly. This is a test of the sound file. Good evening.\n",
      "Hola, soy Caleb, estoy hablando en español. Este es un ejemplo. Gracias y hasta luego.\n"
     ]
    }
   ],
   "source": [
    "for file in input_files:\n",
    "    # try new shorter file\n",
    "    with open(file, \"rb\") as audio_file:\n",
    "        transcript = Audio.transcribe(\"whisper-1\", audio_file)\n",
    "        result = transcript['text']\n",
    "        print(result)"
   ]
  },
  {
   "cell_type": "code",
   "execution_count": null,
   "id": "fb8e3ba9",
   "metadata": {},
   "outputs": [],
   "source": []
  }
 ],
 "metadata": {
  "kernelspec": {
   "display_name": "Python 3 (ipykernel)",
   "language": "python",
   "name": "python3"
  },
  "language_info": {
   "codemirror_mode": {
    "name": "ipython",
    "version": 3
   },
   "file_extension": ".py",
   "mimetype": "text/x-python",
   "name": "python",
   "nbconvert_exporter": "python",
   "pygments_lexer": "ipython3",
   "version": "3.8.13"
  }
 },
 "nbformat": 4,
 "nbformat_minor": 5
}
